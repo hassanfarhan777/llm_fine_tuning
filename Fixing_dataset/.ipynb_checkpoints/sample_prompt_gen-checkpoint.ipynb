{
 "cells": [
  {
   "cell_type": "code",
   "execution_count": 1,
   "id": "9af79965-6a9d-43e4-9df1-9aa6e05ff1aa",
   "metadata": {},
   "outputs": [
    {
     "name": "stderr",
     "output_type": "stream",
     "text": [
      "2025-05-09 22:01:46.579861: I tensorflow/core/util/port.cc:153] oneDNN custom operations are on. You may see slightly different numerical results due to floating-point round-off errors from different computation orders. To turn them off, set the environment variable `TF_ENABLE_ONEDNN_OPTS=0`.\n",
      "2025-05-09 22:01:46.589187: I external/local_xla/xla/tsl/cuda/cudart_stub.cc:32] Could not find cuda drivers on your machine, GPU will not be used.\n",
      "2025-05-09 22:01:46.598552: E external/local_xla/xla/stream_executor/cuda/cuda_fft.cc:485] Unable to register cuFFT factory: Attempting to register factory for plugin cuFFT when one has already been registered\n",
      "2025-05-09 22:01:46.612733: E external/local_xla/xla/stream_executor/cuda/cuda_dnn.cc:8454] Unable to register cuDNN factory: Attempting to register factory for plugin cuDNN when one has already been registered\n",
      "2025-05-09 22:01:46.616992: E external/local_xla/xla/stream_executor/cuda/cuda_blas.cc:1452] Unable to register cuBLAS factory: Attempting to register factory for plugin cuBLAS when one has already been registered\n",
      "2025-05-09 22:01:46.631177: I tensorflow/core/platform/cpu_feature_guard.cc:210] This TensorFlow binary is optimized to use available CPU instructions in performance-critical operations.\n",
      "To enable the following instructions: AVX2 AVX512F AVX512_VNNI AVX512_BF16 FMA, in other operations, rebuild TensorFlow with the appropriate compiler flags.\n",
      "2025-05-09 22:01:47.978870: W tensorflow/compiler/tf2tensorrt/utils/py_utils.cc:38] TF-TRT Warning: Could not find TensorRT\n"
     ]
    }
   ],
   "source": [
    "import torch\n",
    "import tensorflow as tf\n",
    "import pprint\n",
    "from datasets import load_dataset\n",
    "import openai\n",
    "from IPython.display import display, HTML\n",
    "import time\n",
    "import re\n",
    "import numpy as np\n",
    "import pandas as pd\n"
   ]
  },
  {
   "cell_type": "code",
   "execution_count": 2,
   "id": "7c609e3c-9d2d-4eef-8e01-3cd182f6fdd0",
   "metadata": {},
   "outputs": [
    {
     "name": "stdout",
     "output_type": "stream",
     "text": [
      "True\n"
     ]
    }
   ],
   "source": [
    "print(torch.cuda.is_available())  # Should return True if CUDA is available"
   ]
  },
  {
   "cell_type": "code",
   "execution_count": 3,
   "id": "2bc23d05-ea42-472c-b23e-317cd0625171",
   "metadata": {},
   "outputs": [
    {
     "name": "stdout",
     "output_type": "stream",
     "text": [
      "Current device ID: 0\n",
      "Current device name: NVIDIA A40-24Q\n"
     ]
    }
   ],
   "source": [
    "current_device = torch.cuda.current_device()\n",
    "print(f\"Current device ID: {current_device}\")\n",
    "print(f\"Current device name: {torch.cuda.get_device_name(current_device)}\")\n"
   ]
  },
  {
   "cell_type": "code",
   "execution_count": 4,
   "id": "0d558689-e4d9-47d2-b44c-b472a77d8176",
   "metadata": {},
   "outputs": [
    {
     "name": "stdout",
     "output_type": "stream",
     "text": [
      "Current directory: /scratch/h/Hassan.Mo/LLM\n",
      "New directory: /scratch/h/Hassan.Mo/LLM\n",
      "Files here: ['hybrid_loop.ipynb', 'media', 'prompt_exp.ipynb', '.ipynb_checkpoints', 'Examples', 'final_set.csv', 'animation_check.ipynb', 'open_ai_API.txt', '=3.2.0', 'overlap_investigation.ipynb', 'sample_prompt_gen.ipynb', 'hybrid.ipynb', 'looping.ipynb', 'requirments.txt', 'anomaly_solver.ipynb', 'utils.py', '__pycache__', 'Steffan_results', 'animation_checker.py', 'motion_set.csv', 'log_text_condensed.py', '.vscode']\n"
     ]
    }
   ],
   "source": [
    "import os\n",
    "print(\"Current directory:\", os.getcwd())  # Currently: /scratch/h/Hassan.Mo/LLM/Examples/Videos\n",
    "\n",
    "# Go up to the directory containing your file\n",
    "os.chdir(\"/scratch/h/Hassan.Mo/LLM/\")  # Absolute path (recommended)\n",
    "# OR: os.chdir(\"../../\")  # Relative path (go up two levels)\n",
    "\n",
    "print(\"New directory:\", os.getcwd())\n",
    "print(\"Files here:\", os.listdir())  # Check if open_ai_API.txt is listed"
   ]
  },
  {
   "cell_type": "code",
   "execution_count": 5,
   "id": "2612762a-dd53-4f5b-9e43-6dcb37e7ed57",
   "metadata": {},
   "outputs": [],
   "source": [
    "# Reading API Key from file\n",
    "API_KEY = open(\"open_ai_API.txt\", \"r\").read().strip()\n",
    "openai.api_key = API_KEY"
   ]
  },
  {
   "cell_type": "code",
   "execution_count": 6,
   "id": "6895113a-fd0e-4c00-b66d-6f028807a076",
   "metadata": {},
   "outputs": [],
   "source": [
    "from utils import llm_tools, tools_local\n",
    "lt = llm_tools()\n",
    "tl = tools_local()"
   ]
  },
  {
   "cell_type": "code",
   "execution_count": 8,
   "id": "b76369d5-7818-4782-a2ed-c2fda6dab04f",
   "metadata": {},
   "outputs": [],
   "source": [
    "def prompt_gen(formatted_code_string, model=\"gpt-4o-mini\", max_tokens=400, temperature=0.01):\n",
    "        \"\"\"\n",
    "        Prepares messages for the Chat API and sends a request.\n",
    "\n",
    "        Args:\n",
    "            formatted_code_string (str): The code snippet to be analyzed.\n",
    "            model (str): The model to use for the API call. Defaults to \"gpt-4o-mini\".\n",
    "            max_tokens (int): The maximum number of tokens in the response. Defaults to 150.\n",
    "            temperature (float): Sampling temperature. Defaults to 0.01.\n",
    "\n",
    "        Returns:\n",
    "            dict: The response from the OpenAI API, or None if an error occurs.\n",
    "        \"\"\"\n",
    "        # Prepare the messages for the Chat API\n",
    "        messages = [\n",
    "            {\"role\": \"user\", \"content\": f\"You are a helpful assistant which would suggest a prompt from the user which would generate such a code: {formatted_code_string}, Make sure the language of the prompt is very natural\"}]\n",
    "\n",
    "        # Make the API call\n",
    "        try:\n",
    "            response = openai.chat.completions.create(\n",
    "                model=model,\n",
    "                messages=messages,\n",
    "                max_tokens=max_tokens,\n",
    "                temperature=temperature\n",
    "            )\n",
    "            return response\n",
    "        except Exception as e:\n",
    "            print(f\"Error occurred while making the API call: {e}\")\n",
    "            return None"
   ]
  },
  {
   "cell_type": "code",
   "execution_count": 9,
   "id": "3ac1cdd4",
   "metadata": {},
   "outputs": [],
   "source": [
    "\n",
    "\n",
    "def read_python_files(directory):\n",
    "    \"\"\"\n",
    "    Reads the content of all Python (.py) files in a given directory.\n",
    "\n",
    "    Args:\n",
    "        directory (str): The path to the directory containing the Python files.\n",
    "\n",
    "    Returns:\n",
    "        list: A list where each element is the content of a Python file found in the directory.\n",
    "              Returns an empty list if no Python files are found or if an error occurs.\n",
    "    \"\"\"\n",
    "    python_files_content = []\n",
    "\n",
    "    try:\n",
    "        # Get all .py files in the directory\n",
    "        py_files = [f for f in os.listdir(directory) if f.endswith('.py')]\n",
    "\n",
    "        if not py_files:\n",
    "            print(\"No Python files found in the directory.\")\n",
    "        else:\n",
    "            print(f\"Found {len(py_files)} Python files:\")\n",
    "\n",
    "            for filename in py_files:\n",
    "                file_path = os.path.join(directory, filename)\n",
    "\n",
    "                print(f\"\\nReading: {filename}\")\n",
    "                with open(file_path, 'r') as f:\n",
    "                    content = f.read()\n",
    "                    python_files_content.append(content)  # Store content in array\n",
    "                    print(f\"Stored content (length: {len(content)} chars)\")\n",
    "\n",
    "            print(f\"\\nTotal files stored: {len(python_files_content)}\")\n",
    "\n",
    "    except FileNotFoundError:\n",
    "        print(f\"Directory not found: {directory}\")\n",
    "    except PermissionError:\n",
    "        print(f\"Permission denied for: {directory}\")\n",
    "    except Exception as e:\n",
    "        print(f\"An error occurred: {str(e)}\")\n",
    "\n",
    "    return python_files_content\n",
    "\n"
   ]
  },
  {
   "cell_type": "code",
   "execution_count": 13,
   "id": "82a4f9fb-0e51-457f-9554-7d0b49e568fc",
   "metadata": {},
   "outputs": [],
   "source": [
    "\n",
    "def generate_and_extract(file_contents):\n",
    "    \"\"\"\n",
    "    Generates responses for code content and then extracts quoted text from those responses.\n",
    "\n",
    "    Args:\n",
    "        file_contents (list): A list of strings, where each string is the content of a code file.\n",
    "\n",
    "    Returns:\n",
    "        list: A list of strings, where each string contains all the extracted quoted text\n",
    "              joined by spaces from the generated response for the corresponding code content.\n",
    "    \"\"\"\n",
    "    all_extracted_texts = []\n",
    "    for i, content in enumerate(file_contents):\n",
    "        print(f\"\\nProcessing code {i}:\")\n",
    "        response = prompt_gen(content)\n",
    "        response_text = response.choices[0].message.content\n",
    "        # tl.printer(response_text) # Uncomment to print each response\n",
    "        print(f\"Generated response (length: {len(response_text)} chars)\")\n",
    "\n",
    "        # Extract quoted text from the generated response\n",
    "        matches = re.findall(r'\"(.*?)\"|\\'(.*?)\\'', response_text)\n",
    "        flattened_matches = [match[0] or match[1] for match in matches if any(match)]\n",
    "        extracted_text = ' '.join(flattened_matches)\n",
    "        all_extracted_texts.append(extracted_text)\n",
    "        print(f\"Extracted text (length: {len(extracted_text)} chars): {extracted_text[:100]}...\") # Print a snippet\n",
    "\n",
    "    print(f\"\\nExtracted quoted text from {len(all_extracted_texts)} responses.\")\n",
    "    return all_extracted_texts\n"
   ]
  },
  {
   "cell_type": "code",
   "execution_count": 14,
   "id": "d9345101-d8e5-4b05-94ed-99cdeb248123",
   "metadata": {},
   "outputs": [
    {
     "name": "stdout",
     "output_type": "stream",
     "text": [
      "Found 10 Python files:\n",
      "\n",
      "Reading: example_22.py\n",
      "Stored content (length: 638 chars)\n",
      "\n",
      "Reading: example_21.py\n",
      "Stored content (length: 357 chars)\n",
      "\n",
      "Reading: example_18.py\n",
      "Stored content (length: 673 chars)\n",
      "\n",
      "Reading: example_25.py\n",
      "Stored content (length: 884 chars)\n",
      "\n",
      "Reading: example_2.py\n",
      "Stored content (length: 465 chars)\n",
      "\n",
      "Reading: example_16.py\n",
      "Stored content (length: 960 chars)\n",
      "\n",
      "Reading: example_3.py\n",
      "Stored content (length: 370 chars)\n",
      "\n",
      "Reading: example_1.py\n",
      "Stored content (length: 688 chars)\n",
      "\n",
      "Reading: example_14.py\n",
      "Stored content (length: 1224 chars)\n",
      "\n",
      "Reading: example_4.py\n",
      "Stored content (length: 390 chars)\n",
      "\n",
      "Total files stored: 10\n",
      "\n",
      "Processing code 0:\n",
      "Generated response (length: 400 chars)\n",
      "Extracted text (length: 309 chars): Can you help me create a 3D scene using Manim that includes a set of axes and a sphere? I want the s...\n",
      "\n",
      "Processing code 1:\n",
      "Generated response (length: 415 chars)\n",
      "Extracted text (length: 336 chars): Can you help me create a simple 3D scene using Manim? I want to include a 3D text that says 'This is...\n",
      "\n",
      "Processing code 2:\n",
      "Generated response (length: 459 chars)\n",
      "Extracted text (length: 370 chars): Can you help me create a simple heat diagram plot using Manim? I want to include axes labeled with Δ...\n",
      "\n",
      "Processing code 3:\n",
      "Generated response (length: 386 chars)\n",
      "Extracted text (length: 297 chars): Can you help me create a 3D surface plot using Manim? I want to visualize a Gaussian function over a...\n",
      "\n",
      "Processing code 4:\n",
      "Generated response (length: 556 chars)\n",
      "Extracted text (length: 467 chars): Can you help me create a Manim scene that illustrates the concept of horizontal distance between two...\n",
      "\n",
      "Processing code 5:\n",
      "Generated response (length: 905 chars)\n",
      "Extracted text (length: 734 chars): Can you help me create a Manim scene that includes a graph with two curves? I want the first curve t...\n",
      "\n",
      "Processing code 6:\n",
      "Generated response (length: 443 chars)\n",
      "Extracted text (length: 364 chars): Can you help me create a simple animation using Manim? I want to show a vector arrow starting from t...\n",
      "\n",
      "Processing code 7:\n",
      "Generated response (length: 591 chars)\n",
      "Extracted text (length: 502 chars): Can you help me create a simple animation using Manim that features a logo? I want the logo to consi...\n",
      "\n",
      "Processing code 8:\n",
      "Generated response (length: 627 chars)\n",
      "Extracted text (length: 538 chars): Can you help me create a Manim scene that plots the sine and cosine functions on a set of axes? I wa...\n",
      "\n",
      "Processing code 9:\n",
      "Generated response (length: 400 chars)\n",
      "Extracted text (length: 309 chars): Can you help me create a Manim scene that displays a gradient image? I want the image to be generate...\n",
      "\n",
      "Extracted quoted text from 10 responses.\n"
     ]
    }
   ],
   "source": [
    "# Example usage:\n",
    "directory_videos = \"/scratch/h/Hassan.Mo/LLM/Examples/Videos/\"   # Replace with correct address for both\n",
    "directory_static = \"/scratch/h/Hassan.Mo/LLM/Examples/Static/\"\n",
    "\n",
    "file_contents = read_python_files(directory_static)              # Change input variable accordingly\n",
    "extracted_quoted_texts = generate_and_extract(file_contents)\n",
    "\n",
    "# file_contents = read_python_files(directory_static)\n",
    "\n",
    "# Access stored contents later\n",
    "# if file_contents:\n",
    "    # print(\"\\nSample of first file content:\")                                                    # Uncomment to print results\n",
    "    # print(file_contents[0][:200] + \"...\")  # Show first 200 chars of first file\n",
    "\n",
    "\n",
    "# Assuming 'file_contents' is already populated from the read_python_files function\n",
    "\n",
    "\n",
    "# Now 'extracted_quoted_texts' contains the text within quotes from each generated response\n",
    "# if extracted_quoted_texts:\n",
    "#     print(\"\\nExtracted quoted texts from all responses:\")\n",
    "#     for i, text in enumerate(extracted_quoted_texts):\n",
    "#         print(f\"Response {i+1}: {text}\")                                                      # Uncomment to print results"
   ]
  },
  {
   "cell_type": "code",
   "execution_count": 15,
   "id": "7bcceb3b-bb35-4303-8b79-947e99f5faa4",
   "metadata": {},
   "outputs": [],
   "source": [
    "final_set = np.column_stack((extracted_quoted_texts, file_contents))\n",
    "# Convert to DataFrame\n",
    "df = pd.DataFrame(final_set)\n",
    "\n",
    "# Export to CSV\n",
    "df.to_csv('static.csv', index=False)  # `index=False` avoids extra row numbers"
   ]
  },
  {
   "cell_type": "code",
   "execution_count": 23,
   "id": "06c6888c-7392-4e1d-ae7f-87e08b081d7a",
   "metadata": {},
   "outputs": [
    {
     "data": {
      "text/html": [
       "<table border=\"1\" class=\"dataframe\">\n",
       "  <thead>\n",
       "    <tr style=\"text-align: right;\">\n",
       "      <th></th>\n",
       "      <th>0</th>\n",
       "      <th>1</th>\n",
       "    </tr>\n",
       "  </thead>\n",
       "  <tbody>\n",
       "    <tr>\n",
       "      <th>0</th>\n",
       "      <td>Can you help me create a 3D scene using Manim that includes a set of axes and a sphere? I want the sphere to have a checkerboard texture in shades of red, and I’d like to position the light source to come from behind the scene. Also, please set the camera orientation to give a nice perspective of the sphere.</td>\n",
       "      <td>from manim import *\\n\\nclass ThreeDLightSourcePosition(ThreeDScene):\\n    def construct(self):\\n        axes = ThreeDAxes()\\n        sphere = Surface(\\n            lambda u, v: np.array([\\n                1.5 * np.cos(u) * np.cos(v),\\n                1.5 * np.cos(u) * np.sin(v),\\n                1.5 * np.sin(u)\\n            ]), v_range=[0, TAU], u_range=[-PI / 2, PI / 2],\\n            checkerboard_colors=[RED_D, RED_E], resolution=(15, 32)\\n        )\\n        self.renderer.camera.light_source.move_to(3*IN) # changes the source of the light\\n        self.set_camera_orientation(phi=75 * DEGREES, theta=30 * DEGREES)\\n        self.add(axes, sphere)\\n</td>\n",
       "    </tr>\n",
       "    <tr>\n",
       "      <th>1</th>\n",
       "      <td>Can you help me create a simple 3D scene using Manim? I want to include a 3D text that says 'This is a 3D text' and have it fixed in the frame while also displaying some 3D axes. I’d like the camera to be oriented at a specific angle, with the text positioned in the upper left corner of the screen. Could you provide the code for that?</td>\n",
       "      <td>from manim import *\\n\\nclass FixedInFrameMObjectTest(ThreeDScene):\\n    def construct(self):\\n        axes = ThreeDAxes()\\n        self.set_camera_orientation(phi=75 * DEGREES, theta=-45 * DEGREES)\\n        text3d = Text(\"This is a 3D text\")\\n        self.add_fixed_in_frame_mobjects(text3d)\\n        text3d.to_corner(UL)\\n        self.add(axes)\\n        self.wait()\\n</td>\n",
       "    </tr>\n",
       "    <tr>\n",
       "      <th>2</th>\n",
       "      <td>Can you help me create a simple heat diagram plot using Manim? I want to include axes labeled with ΔQ and temperature in degrees Celsius. The x-axis should range from 0 to 40, and the y-axis should range from -8 to 32. I also need to plot a line graph with specific points: (0, 20), (8, 0), (38, 0), and (39, -5). Please make sure the graph looks clear and professional!</td>\n",
       "      <td>from manim import *\\n\\nclass HeatDiagramPlot(Scene):\\n    def construct(self):\\n        ax = Axes(\\n            x_range=[0, 40, 5],\\n            y_range=[-8, 32, 5],\\n            x_length=9,\\n            y_length=6,\\n            x_axis_config={\"numbers_to_include\": np.arange(0, 40, 5)},\\n            y_axis_config={\"numbers_to_include\": np.arange(-5, 34, 5)},\\n            tips=False,\\n        )\\n        labels = ax.get_axis_labels(\\n            x_label=Tex(r\"$\\Delta Q$\"), y_label=Tex(r\"T[$^\\circ C$]\")\\n        )\\n\\n        x_vals = [0, 8, 38, 39]\\n        y_vals = [20, 0, 0, -5]\\n        graph = ax.plot_line_graph(x_values=x_vals, y_values=y_vals)\\n\\n        self.add(ax, labels, graph)\\n</td>\n",
       "    </tr>\n",
       "    <tr>\n",
       "      <th>3</th>\n",
       "      <td>Can you help me create a 3D surface plot using Manim? I want to visualize a Gaussian function over a range of values. The surface should be colorful, with a checkerboard pattern, and I’d like to set the camera orientation to get a good view of the plot. Also, please include 3D axes for reference.</td>\n",
       "      <td>from manim import *\\n\\nclass ThreeDSurfacePlot(ThreeDScene):\\n    def construct(self):\\n        resolution_fa = 24\\n        self.set_camera_orientation(phi=75 * DEGREES, theta=-30 * DEGREES)\\n\\n        def param_gauss(u, v):\\n            x = u\\n            y = v\\n            sigma, mu = 0.4, [0.0, 0.0]\\n            d = np.linalg.norm(np.array([x - mu[0], y - mu[1]]))\\n            z = np.exp(-(d ** 2 / (2.0 * sigma ** 2)))\\n            return np.array([x, y, z])\\n\\n        gauss_plane = Surface(\\n            param_gauss,\\n            resolution=(resolution_fa, resolution_fa),\\n            v_range=[-2, +2],\\n            u_range=[-2, +2]\\n        )\\n\\n        gauss_plane.scale(2, about_point=ORIGIN)\\n        gauss_plane.set_style(fill_opacity=1,stroke_color=GREEN)\\n        gauss_plane.set_fill_by_checkerboard(ORANGE, BLUE, opacity=0.5)\\n        axes = ThreeDAxes()\\n        self.add(axes,gauss_plane)\\n</td>\n",
       "    </tr>\n",
       "    <tr>\n",
       "      <th>4</th>\n",
       "      <td>Can you help me create a Manim scene that illustrates the concept of horizontal distance between two points? I want to include two dots at specific coordinates, connect them with a line, and add braces with annotations. The first brace should label the line as 'Horizontal distance', and the second brace should represent the difference in the x-coordinates with the label 'x - x₁'. Please make sure the line is colored orange and the braces are positioned correctly.</td>\n",
       "      <td>from manim import *\\n\\nclass BraceAnnotation(Scene):\\n    def construct(self):\\n        dot = Dot([-2, -1, 0])\\n        dot2 = Dot([2, 1, 0])\\n        line = Line(dot.get_center(), dot2.get_center()).set_color(ORANGE)\\n        b1 = Brace(line)\\n        b1text = b1.get_text(\"Horizontal distance\")\\n        b2 = Brace(line, direction=line.copy().rotate(PI / 2).get_unit_vector())\\n        b2text = b2.get_tex(\"x-x_1\")\\n        self.add(line, dot, dot2, b1, b2, b1text, b2text)\\n</td>\n",
       "    </tr>\n",
       "    <tr>\n",
       "      <th>5</th>\n",
       "      <td>Can you help me create a Manim scene that includes a graph with two curves? I want the first curve to be a downward-opening parabola defined by the equation \\(y = 4x - x^2\\) and the second curve to be an upward-opening parabola defined by \\(y = 0.8x^2 - 3x + 4\\). I would like to include vertical lines at \\(x = 2\\) and \\(x = 3\\) on the first curve, and I want to visualize the area between the two curves from \\(x = 2\\) to \\(x = 3\\). Additionally, please include Riemann rectangles under the first curve between \\(x = 0.3\\) and \\(x = 0.6\\). The axes should range from 0 to 5 on the x-axis and 0 to 6 on the y-axis, with specific labels on the axes. Make sure to use different colors for the curves and areas for better visualization.</td>\n",
       "      <td>from manim import *\\n\\nclass GraphAreaPlot(Scene):\\n    def construct(self):\\n        ax = Axes(\\n            x_range=[0, 5],\\n            y_range=[0, 6],\\n            x_axis_config={\"numbers_to_include\": [2, 3]},\\n            tips=False,\\n        )\\n\\n        labels = ax.get_axis_labels()\\n\\n        curve_1 = ax.plot(lambda x: 4 * x - x ** 2, x_range=[0, 4], color=BLUE_C)\\n        curve_2 = ax.plot(\\n            lambda x: 0.8 * x ** 2 - 3 * x + 4,\\n            x_range=[0, 4],\\n            color=GREEN_B,\\n        )\\n\\n        line_1 = ax.get_vertical_line(ax.input_to_graph_point(2, curve_1), color=YELLOW)\\n        line_2 = ax.get_vertical_line(ax.i2gp(3, curve_1), color=YELLOW)\\n\\n        riemann_area = ax.get_riemann_rectangles(curve_1, x_range=[0.3, 0.6], dx=0.03, color=BLUE, fill_opacity=0.5)\\n        area = ax.get_area(curve_2, [2, 3], bounded_graph=curve_1, color=GREY, opacity=0.5)\\n\\n        self.add(ax, labels, curve_1, curve_2, line_1, line_2, riemann_area, area)\\n</td>\n",
       "    </tr>\n",
       "    <tr>\n",
       "      <th>6</th>\n",
       "      <td>Can you help me create a simple animation using Manim? I want to show a vector arrow starting from the origin (0, 0) and pointing to the coordinates (2, 2). Please include a dot at the origin, the arrow itself, and a number plane for context. Additionally, I'd like to have labels for both the origin and the tip of the arrow, showing their respective coordinates.</td>\n",
       "      <td>from manim import *\\n\\nclass VectorArrow(Scene):\\n    def construct(self):\\n        dot = Dot(ORIGIN)\\n        arrow = Arrow(ORIGIN, [2, 2, 0], buff=0)\\n        numberplane = NumberPlane()\\n        origin_text = Text('(0, 0)').next_to(dot, DOWN)\\n        tip_text = Text('(2, 2)').next_to(arrow.get_end(), RIGHT)\\n        self.add(numberplane, dot, arrow, origin_text, tip_text)\\n</td>\n",
       "    </tr>\n",
       "    <tr>\n",
       "      <th>7</th>\n",
       "      <td>Can you help me create a simple animation using Manim that features a logo? I want the logo to consist of a large letter 'M' in black, surrounded by a green circle, a blue square, and a red triangle. The background should be a light beige color. The letter 'M' should be positioned slightly to the left and above the center of the screen, while the shapes should be arranged around it. Please make sure the shapes are filled with their respective colors and that the overall composition looks balanced.</td>\n",
       "      <td>from manim import *\\n\\nclass ManimCELogo(Scene):\\n    def construct(self):\\n        self.camera.background_color = \"#ece6e2\"\\n        logo_green = \"#87c2a5\"\\n        logo_blue = \"#525893\"\\n        logo_red = \"#e07a5f\"\\n        logo_black = \"#343434\"\\n        ds_m = MathTex(r\"\\mathbb{M}\", fill_color=logo_black).scale(7)\\n        ds_m.shift(2.25 * LEFT + 1.5 * UP)\\n        circle = Circle(color=logo_green, fill_opacity=1).shift(LEFT)\\n        square = Square(color=logo_blue, fill_opacity=1).shift(UP)\\n        triangle = Triangle(color=logo_red, fill_opacity=1).shift(RIGHT)\\n        logo = VGroup(triangle, square, circle, ds_m)  # order matters\\n        logo.move_to(ORIGIN)\\n        self.add(logo)\\n</td>\n",
       "    </tr>\n",
       "    <tr>\n",
       "      <th>8</th>\n",
       "      <td>Can you help me create a Manim scene that plots the sine and cosine functions on a set of axes? I want the x-axis to range from -10 to 10, and the y-axis to range from -1.5 to 1.5. Please include labels for the axes, and also label the sine and cosine curves. Additionally, I would like to have a vertical line at x = 2π with a label indicating that position. Make sure the sine curve is in blue and the cosine curve is in red, and the vertical line is in yellow. The axes should be green, and the labels should be clear and easy to read.</td>\n",
       "      <td>from manim import *\\n\\nclass SinAndCosFunctionPlot(Scene):\\n    def construct(self):\\n        axes = Axes(\\n            x_range=[-10, 10.3, 1],\\n            y_range=[-1.5, 1.5, 1],\\n            x_length=10,\\n            axis_config={\"color\": GREEN},\\n            x_axis_config={\\n                \"numbers_to_include\": np.arange(-10, 10.01, 2),\\n                \"numbers_with_elongated_ticks\": np.arange(-10, 10.01, 2),\\n            },\\n            tips=False,\\n        )\\n        axes_labels = axes.get_axis_labels()\\n        sin_graph = axes.plot(lambda x: np.sin(x), color=BLUE)\\n        cos_graph = axes.plot(lambda x: np.cos(x), color=RED)\\n\\n        sin_label = axes.get_graph_label(\\n            sin_graph, \"\\\\sin(x)\", x_val=-10, direction=UP / 2\\n        )\\n        cos_label = axes.get_graph_label(cos_graph, label=\"\\\\cos(x)\")\\n\\n        vert_line = axes.get_vertical_line(\\n            axes.i2gp(TAU, cos_graph), color=YELLOW, line_func=Line\\n        )\\n        line_label = axes.get_graph_label(\\n            cos_graph, r\"x=2\\pi\", x_val=TAU, direction=UR, color=WHITE\\n        )\\n\\n        plot = VGroup(axes, sin_graph, cos_graph, vert_line)\\n        labels = VGroup(axes_labels, sin_label, cos_label, line_label)\\n        self.add(plot, labels)\\n</td>\n",
       "    </tr>\n",
       "    <tr>\n",
       "      <th>9</th>\n",
       "      <td>Can you help me create a Manim scene that displays a gradient image? I want the image to be generated from an array where the colors transition smoothly from black to white. The image should be scaled up a bit, and I’d like to add a green rectangle around it for emphasis. Could you provide the code for that?</td>\n",
       "      <td>from manim import *\\n\\nclass GradientImageFromArray(Scene):\\n    def construct(self):\\n        n = 256\\n        imageArray = np.uint8(\\n            [[i * 256 / n for i in range(0, n)] for _ in range(0, n)]\\n        )\\n        image = ImageMobject(imageArray).scale(2)\\n        image.background_rectangle = SurroundingRectangle(image, color=GREEN)\\n        self.add(image, image.background_rectangle)\\n</td>\n",
       "    </tr>\n",
       "  </tbody>\n",
       "</table>"
      ],
      "text/plain": [
       "<IPython.core.display.HTML object>"
      ]
     },
     "metadata": {},
     "output_type": "display_data"
    }
   ],
   "source": [
    "from IPython.display import display, HTML\n",
    "display(HTML(df.to_html()))\n",
    "\n"
   ]
  },
  {
   "cell_type": "code",
   "execution_count": null,
   "id": "4ee3fffa",
   "metadata": {},
   "outputs": [],
   "source": []
  }
 ],
 "metadata": {
  "kernelspec": {
   "display_name": "Python llm_env",
   "language": "python",
   "name": "your_env_name"
  },
  "language_info": {
   "codemirror_mode": {
    "name": "ipython",
    "version": 3
   },
   "file_extension": ".py",
   "mimetype": "text/x-python",
   "name": "python",
   "nbconvert_exporter": "python",
   "pygments_lexer": "ipython3",
   "version": "3.9.21"
  }
 },
 "nbformat": 4,
 "nbformat_minor": 5
}
