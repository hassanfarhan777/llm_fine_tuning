{
 "cells": [
  {
   "cell_type": "code",
   "execution_count": 184,
   "metadata": {},
   "outputs": [],
   "source": [
    "import torch\n",
    "import tensorflow as tf\n",
    "import pprint\n",
    "from datasets import load_dataset\n",
    "import openai\n",
    "from transformers import pipeline\n",
    "from sentence_transformers import SentenceTransformer, util\n",
    "from IPython.display import display, HTML\n",
    "import time"
   ]
  },
  {
   "cell_type": "code",
   "execution_count": 185,
   "metadata": {},
   "outputs": [
    {
     "name": "stdout",
     "output_type": "stream",
     "text": [
      "True\n"
     ]
    }
   ],
   "source": [
    "start_time = time.time()\n",
    "print(torch.cuda.is_available())  # Should return True if CUDA is available\n"
   ]
  },
  {
   "cell_type": "code",
   "execution_count": 186,
   "metadata": {},
   "outputs": [],
   "source": [
    "# Reading API Key from file\n",
    "API_KEY = open(\"open_ai_API.txt\", \"r\").read().strip()\n",
    "openai.api_key = API_KEY\n"
   ]
  },
  {
   "cell_type": "code",
   "execution_count": 187,
   "metadata": {
    "tags": []
   },
   "outputs": [],
   "source": [
    "device = torch.device('cuda' if torch.cuda.is_available() else 'cpu')"
   ]
  },
  {
   "cell_type": "code",
   "execution_count": 188,
   "metadata": {},
   "outputs": [],
   "source": [
    "data = load_dataset(\"generaleoley/manim-codegen\", split='train')\n",
    "# print(data)"
   ]
  },
  {
   "cell_type": "code",
   "execution_count": 189,
   "metadata": {},
   "outputs": [],
   "source": [
    "# Choosing a specific code from the dataset by giving value of 'reference', change value for each code \n",
    "reference = 3\n",
    "code_string = data[reference]['answer']\n"
   ]
  },
  {
   "cell_type": "code",
   "execution_count": 190,
   "metadata": {},
   "outputs": [
    {
     "name": "stdout",
     "output_type": "stream",
     "text": [
      "\n",
      " from manim import *\n",
      "\n",
      "class DoubleIntegralPolarExample(Scene):\n",
      "    def construct(self):\n",
      "        # Displaying the problem\n",
      "        problem = MathTex(r\"\\int_{0}^{\\pi/2} \\int_{0}^{1} r dr\\,d\\theta\")\n",
      "        self.play(Write(problem))\n",
      "        self.wait(1)\n",
      "\n",
      "        # Explanation for inner integral\n",
      "        explanation1 = Text(\"Integrate with respect to r first\", font_size=24).to_edge(UP)\n",
      "        self.play(Write(explanation1))\n",
      "        self.wait(2)\n",
      "\n",
      "        # Inner integral step\n",
      "        inner_integral = MathTex(r\"= \\int_{0}^{\\pi/2} [\\frac{1}{2}r^2]_{0}^{1} d\\theta\")\n",
      "        self.play(ReplacementTransform(problem.copy(), inner_integral))\n",
      "        self.wait(1)\n",
      "\n",
      "        # Explanation for final integral\n",
      "        explanation2 = Text(\"Now integrate with respect to \\( \\theta \\)\", font_size=24).to_edge(UP)\n",
      "        self.play(Transform(explanation1, explanation2))\n",
      "        self.wait(2)\n",
      "\n",
      "        # Final solution\n",
      "        final_solution = MathTex(r\"= [\\frac{1}{2}\\theta]_{0}^{\\pi/2}\")\n",
      "        self.play(ReplacementTransform(inner_integral, final_solution))\n",
      "        self.wait(1)\n",
      "\n",
      "        # Display final answer\n",
      "        answer = MathTex(r\"= \\frac{\\pi}{4}\")\n",
      "        self.play(Transform(final_solution, answer))\n",
      "        self.wait(2)\n"
     ]
    }
   ],
   "source": [
    "# Replace \\\\n with actual newline characters\n",
    "formatted_code_string = code_string.replace('\\\\n', '\\n')\n",
    "''\n",
    "# Print the formatted code\n",
    "print(formatted_code_string)\n"
   ]
  },
  {
   "cell_type": "code",
   "execution_count": 191,
   "metadata": {},
   "outputs": [],
   "source": [
    "# Prepare the messages for the Chat API which will be used later for cosine similarity\n",
    "messages = [\n",
    "    # {\"role\": \"system\", \"content\": \"You are a helpful assistant that performs semantic analysis.\"},\n",
    "    {\"role\": \"user\", \"content\": f\"Explain the purpose of this code wihtout getting into technical details, \\n\\nParagraph 1:\\n{formatted_code_string}\"},\n",
    "\n",
    "    {\"role\": \"user\", \"content\": f\"In detail, explain what is happening with the visuals,  \\n\\nParagraph 1:\\n{formatted_code_string} \"}\n",
    "]\n",
    "\n",
    "# Make the API call\n",
    "response = openai.chat.completions.create(\n",
    "    model=\"gpt-4o-mini\",  # Or another model as appropriate\n",
    "    messages=messages,\n",
    "    max_tokens=150,  # Adjust based on your needs\n",
    "    temperature=0.01  # Adjust for more creativity or precision\n",
    ")\n"
   ]
  },
  {
   "cell_type": "code",
   "execution_count": 192,
   "metadata": {},
   "outputs": [
    {
     "name": "stdout",
     "output_type": "stream",
     "text": [
      "The code provided is a script for creating an animated mathematical explanation using the Manim library, which is designed for producing mathematical animations. Here’s a detailed breakdown of what happens visually in each step of the code:\n",
      "\n",
      "1. **Displaying the Problem**:\n",
      "   - The animation begins by displaying the double integral problem: \\(\\int_{0}^{\\pi/2} \\int_{0}^{1} r \\, dr \\, d\\theta\\). \n",
      "   - This is done using a mathematical text format (MathTex), which allows for clear and professional rendering of mathematical expressions.\n",
      "   - The `Write` function animates the appearance of this integral on the screen, making it look like it is being written out in real-time. After this\n"
     ]
    }
   ],
   "source": [
    "open_gen = response.choices[0].message.content\n",
    "print(open_gen)"
   ]
  },
  {
   "cell_type": "code",
   "execution_count": 193,
   "metadata": {},
   "outputs": [],
   "source": [
    "# Initialize the model\n",
    "model = SentenceTransformer('all-MiniLM-L6-v2').to(device)"
   ]
  },
  {
   "cell_type": "code",
   "execution_count": 194,
   "metadata": {},
   "outputs": [],
   "source": [
    "def similarity_f(text1,text2):\n",
    "    \"\"\"\n",
    "    Computes the cosine similarity between the embeddings of two text inputs.\n",
    "\n",
    "    Args:\n",
    "    -----\n",
    "    text1 (str): \n",
    "        The first input text that will be encoded and compared.\n",
    "    \n",
    "    text2 (str): \n",
    "        The second input text that will be encoded and compared.\n",
    "\n",
    "    Returns:\n",
    "    --------\n",
    "    float: \n",
    "        A floating-point value representing the cosine similarity between the two text embeddings. The value ranges\n",
    "        between -1 and 1:\n",
    "        - 1 indicates that the texts are identical in terms of the embedding space.\n",
    "        - 0 indicates that the texts are orthogonal (no similarity).\n",
    "        - -1 indicates maximum dissimilarity in terms of the embedding space.\n",
    "        \n",
    "    \"\"\"\n",
    "    embedding1 = model.encode(text1, convert_to_tensor=True)\n",
    "    embedding2 = model.encode(text2, convert_to_tensor=True)\n",
    "    return util.pytorch_cos_sim(embedding1, embedding2).item()"
   ]
  },
  {
   "cell_type": "code",
   "execution_count": 195,
   "metadata": {},
   "outputs": [],
   "source": [
    "def printer(printing_content):\n",
    "    \"\"\"\n",
    "    Displays content in a formatted HTML output with word wrapping.\n",
    "\n",
    "    This function takes a string input and displays it using IPython's display capabilities, ensuring that\n",
    "    the text is wrapped appropriately (i.e., long lines of text won't overflow the display area). It uses \n",
    "    HTML's `pre-wrap` style to preserve spaces and newlines while also wrapping text for better readability.\n",
    "\n",
    "    Args:\n",
    "    -----\n",
    "    printing_content (str):\n",
    "        The content to be displayed. This can be any text or string that should be printed with word wrapping.\n",
    "    \n",
    "    Returns:\n",
    "    --------\n",
    "    None:\n",
    "        The function outputs the wrapped content to the notebook using IPython's `display` and `HTML` functions,\n",
    "        but it does not return any value.\n",
    "    \"\"\"\n",
    "    # Display the output with word wrapping\n",
    "    wrapped_output = f\"<div style='white-space: pre-wrap;'>{printing_content}</div>\"\n",
    "    return display(HTML(wrapped_output))"
   ]
  },
  {
   "cell_type": "code",
   "execution_count": 196,
   "metadata": {},
   "outputs": [],
   "source": [
    "top_similarities = []  # List to store (similarity, index) tuples\n",
    "top_n = 10  # Number of top similarities to keep\n",
    "\n",
    "for i in range(len(data)):\n",
    "    query_response = data[i]['query']\n",
    "    score = similarity_f(open_gen, query_response)\n",
    "    \n",
    "    # Add the current score and index as a dictionary to the list\n",
    "    top_similarities.append({'score': score, 'index': i, 'query': data[i]['query']})  # Storing the score and index in a dictionary\n",
    "\n",
    "    # Sort the list by similarity score in descending order and keep only the top N\n",
    "    top_similarities = sorted(top_similarities, key=lambda x: x['score'], reverse=True)[:top_n]\n",
    "\n",
    "# Now, top_similarities contains the top 10 highest scores along with their indices"
   ]
  },
  {
   "cell_type": "code",
   "execution_count": 197,
   "metadata": {},
   "outputs": [
    {
     "name": "stdout",
     "output_type": "stream",
     "text": [
      "{'score': 0.7671608924865723, 'index': 444, 'query': 'I would like to create an educational animation that visually walks through the process of solving a double integral in polar coordinates. The specific double integral problem to demonstrate is the integral from 0 to π/2 of the integral from 0 to 1 of ρ² sin(φ) dρ dφ. First, the problem should be presented, and then the animation should show the step-by-step process. It should start by integrating with respect to ρ, including replacing the ρ terms with the limits of integration and simplifying the expression. Next, display a message about integrating the resulting expression with respect to φ. Finally, show that work and the calculation of the final numerical result, which should come out to 2/3. Arrange all the parts of this explanation in a clear way, one after the other, and use pauses to allow time to understand each step. Can you make an animation like this that would be useful in a mathematics classroom?'}\n"
     ]
    }
   ],
   "source": [
    "print(top_similarities[2])"
   ]
  },
  {
   "cell_type": "code",
   "execution_count": 198,
   "metadata": {
    "tags": []
   },
   "outputs": [],
   "source": [
    "all_scores = [item['score'] for item in top_similarities]\n",
    "all_indices = [item['index'] for item in top_similarities]\n",
    "all_queries = [item['query'] for item in top_similarities]"
   ]
  },
  {
   "cell_type": "code",
   "execution_count": 199,
   "metadata": {
    "tags": []
   },
   "outputs": [
    {
     "data": {
      "text/plain": [
       "'Can you create an educational animation that visually explains the step-by-step process of solving the double integral in polar coordinates of the function \\\\( r \\\\) over the region defined by \\\\( \\\\theta \\\\) from 0 to \\\\( \\\\pi \\\\) and \\\\( r \\\\) from 0 to 1, including written explanations and the final solution?'"
      ]
     },
     "execution_count": 199,
     "metadata": {},
     "output_type": "execute_result"
    }
   ],
   "source": [
    "top_similarities[1]['query']"
   ]
  },
  {
   "cell_type": "code",
   "execution_count": 200,
   "metadata": {},
   "outputs": [],
   "source": [
    "def create_message_for_comparison(code_snippet, paragraphs):\n",
    "    \"\"\"\n",
    "    Compares the prompts with the highest cosine similarity to ultimately find the correct prompt for the code \n",
    "\n",
    "    Args:\n",
    "    -----\n",
    "    code_snippet (str):\n",
    "        A string containing the Python code that will be compared against the provided paragraphs.\n",
    "    \n",
    "    paragraphs (list of str):\n",
    "        A list of paragraphs (prompts) to be compared with the Python code. Each paragraph is a potential\n",
    "        candidate that could have generated the provided code snippet.\n",
    "\n",
    "    Returns:\n",
    "    --------\n",
    "    list:\n",
    "        A list containing two dictionaries, formatted as messages:\n",
    "        1. A system message that defines the role and behavior of the model.\n",
    "        2. A user message that contains the code snippet and the paragraphs for comparison.\n",
    "    \"\"\"\n",
    "    # System message to guide GPT's behavior\n",
    "    system_message = {\n",
    "        \"role\": \"system\",\n",
    "        # \"content\": \"You are an assistant that compares Python code snippets with paragraphs and finds the most similar match.\"\n",
    "        \"content\": \"You are an assistant that compares prompts to find the one which most likely generated the provided code\"\n",
    "    }\n",
    "    \n",
    "    # User message that provides the code and paragraphs\n",
    "    user_message_content = f\"\"\"\n",
    "    Here is the Python code snippet:\n",
    "    \n",
    "    ```python\n",
    "    {code_snippet}\n",
    "    ```\n",
    "\n",
    "    Below are the prompts {len(paragraphs)}. Compare each prompt with the provided code snippet and determine which prompt is the most similar to the code. Provide the index of the most similar prompt and print that prompt under ** ** without paragraph index or anything else.\n",
    "    \"\"\"\n",
    "    \n",
    "    # Append each paragraph with its index\n",
    "    for i, paragraph in enumerate(paragraphs, start=1):\n",
    "        user_message_content += f\"\\nParagraph {i}: {paragraph}\"\n",
    "    \n",
    "    user_message = {\n",
    "        \"role\": \"user\",\n",
    "        \"content\": user_message_content\n",
    "    }\n",
    "    \n",
    "    return [system_message, user_message]"
   ]
  },
  {
   "cell_type": "code",
   "execution_count": 201,
   "metadata": {},
   "outputs": [],
   "source": [
    "messages = create_message_for_comparison(code_string, all_queries)"
   ]
  },
  {
   "cell_type": "code",
   "execution_count": 202,
   "metadata": {},
   "outputs": [
    {
     "data": {
      "text/html": [
       "<div style='white-space: pre-wrap;'>**Paragraph 1: Can you create an educational animation that visually explains the process of solving a double integral in polar coordinates, specifically showing step-by-step how to integrate `∫ from 0 to 2π ∫ from 0 to 1 of r dr dθ`? The animation should include the initial problem, text explanations before each step, and the mathematical work of performing the inner integral with respect to 'r' first, then computing the outer integral with respect to 'θ', and finally displaying the numeric answer. Each step should appear one after the other with a short pause between them for clarity.**</div>"
      ],
      "text/plain": [
       "<IPython.core.display.HTML object>"
      ]
     },
     "metadata": {},
     "output_type": "display_data"
    }
   ],
   "source": [
    "# Make the API call to GPT-4o-mini for comparison\n",
    "response = openai.chat.completions.create(\n",
    "    model=\"gpt-4o-mini\",\n",
    "    messages=messages,\n",
    "    max_tokens=700,\n",
    "    temperature=0.01\n",
    ")\n",
    "\n",
    "# Extract and return the most similar query from the response\n",
    "response_content = response.choices[0].message.content\n",
    "printer(response_content)"
   ]
  },
  {
   "cell_type": "code",
   "execution_count": 203,
   "metadata": {},
   "outputs": [],
   "source": [
    "# Isolates output and runs a search for it through the dataset to find its corresponding index in the dataset\n",
    "\n",
    "def searching(response):\n",
    "    search_phrase = response_content[20:-15]  # Skip the first 15 characters\n",
    "    # Search for the phrase in the 'query' column and store the row number\n",
    "    filtered_rows_with_indices_query = [(index, example) for index, example in enumerate(data) if search_phrase.lower() in example['query'].lower()]\n",
    "\n",
    "    print(\"Reference =\", reference,\",  No. of instances =\",len(filtered_rows_with_indices_query))\n",
    "\n",
    "    # Display the filtered rows with their corresponding row numbers\n",
    "    for index, row in filtered_rows_with_indices_query:\n",
    "        print(f\"Row {index}:\")\n",
    "        print(row['query'])\n",
    "\n"
   ]
  },
  {
   "cell_type": "code",
   "execution_count": 204,
   "metadata": {
    "tags": []
   },
   "outputs": [
    {
     "name": "stdout",
     "output_type": "stream",
     "text": [
      "Reference = 3 ,  No. of instances = 1\n",
      "Row 615:\n",
      "Can you create an educational animation that visually explains the process of solving a double integral in polar coordinates, specifically showing step-by-step how to integrate `∫ from 0 to 2π ∫ from 0 to 1 of r dr dθ`? The animation should include the initial problem, text explanations before each step, and the mathematical work of performing the inner integral with respect to 'r' first, then computing the outer integral with respect to 'θ', and finally displaying the numeric answer. Each step should appear one after the other with a short pause between them for clarity.\n",
      "None\n"
     ]
    }
   ],
   "source": [
    "print(searching(response_content))"
   ]
  },
  {
   "cell_type": "code",
   "execution_count": 205,
   "metadata": {},
   "outputs": [
    {
     "name": "stdout",
     "output_type": "stream",
     "text": [
      "18.88306164741516\n"
     ]
    }
   ],
   "source": [
    "#calculating time for run the entire algo\n",
    "end_time = time.time()\n",
    "print(end_time - start_time)"
   ]
  },
  {
   "cell_type": "code",
   "execution_count": null,
   "metadata": {},
   "outputs": [],
   "source": []
  }
 ],
 "metadata": {
  "kernelspec": {
   "display_name": "Python llm_env",
   "language": "python",
   "name": "your_env_name"
  },
  "language_info": {
   "codemirror_mode": {
    "name": "ipython",
    "version": 3
   },
   "file_extension": ".py",
   "mimetype": "text/x-python",
   "name": "python",
   "nbconvert_exporter": "python",
   "pygments_lexer": "ipython3",
   "version": "3.9.18"
  }
 },
 "nbformat": 4,
 "nbformat_minor": 4
}
